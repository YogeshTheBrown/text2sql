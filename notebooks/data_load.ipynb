{
 "cells": [
  {
   "cell_type": "code",
   "execution_count": 2,
   "id": "81ef7c10",
   "metadata": {},
   "outputs": [],
   "source": [
    "import json"
   ]
  },
  {
   "cell_type": "code",
   "execution_count": 3,
   "id": "d46d0603",
   "metadata": {},
   "outputs": [],
   "source": [
    "with open(\"../data/raw/db_sample_metadata.json\") as f:\n",
    "    data = json.load(f)"
   ]
  },
  {
   "cell_type": "code",
   "execution_count": 6,
   "id": "8d620068",
   "metadata": {},
   "outputs": [],
   "source": [
    "rows = data[list(data.keys())[0]]"
   ]
  },
  {
   "cell_type": "code",
   "execution_count": null,
   "id": "5dff5c4b",
   "metadata": {},
   "outputs": [],
   "source": [
    "docs = []\n",
    "for row in rows:\n",
    "    doc = (\n",
    "        f\"Table {row[\"table_name\"]} has column {row['column_name']} \"\n",
    "        f\"of type {row[\"data_type\"]}, \"\n",
    "        f\"{'not null' if row ['not_null'] else 'nullable'}\"\n",
    "    )\n",
    "\n",
    "    if row[\"is_primary\"]:\n",
    "        doc += \", primary key.\"\n",
    "\n",
    "    docs.append(doc)\n",
    "\n",
    "print(docs[:5])"
   ]
  }
 ],
 "metadata": {
  "kernelspec": {
   "display_name": ".venv",
   "language": "python",
   "name": "python3"
  },
  "language_info": {
   "codemirror_mode": {
    "name": "ipython",
    "version": 3
   },
   "file_extension": ".py",
   "mimetype": "text/x-python",
   "name": "python",
   "nbconvert_exporter": "python",
   "pygments_lexer": "ipython3",
   "version": "3.12.11"
  }
 },
 "nbformat": 4,
 "nbformat_minor": 5
}
